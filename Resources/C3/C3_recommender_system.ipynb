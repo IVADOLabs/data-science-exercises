{
 "cells": [
  {
   "cell_type": "markdown",
   "metadata": {
    "colab_type": "text",
    "id": "8OcU3stRtD7H"
   },
   "source": [
    "# Recommender System\n",
    "\n",
    "In this exercise, we provide a Jupyter notebook with an implementation of a Recommender System to suggest movies to users. Data files are collected from the source and used to build the recommender system.\n",
    "\n",
    "The Recommender System calculates movie suggestions for a given user by calculating  similarities between the users latest rated movie(s) and other movies. Similarity between movies is calculated using Pearson coefficient between user ratings of each movie. Similar movies are then ranked in descending order by Pearson coefficient and the first ___x___ movies are taken as recommendations for the user.\n",
    "This is a basic implementation of a Collaborative Filtering system. For example, there is no post processing in case of multiple movies with similar Pearson coefficient (no tie breaker). Also, no other information about the movies or the users (ex. genres or release year).\n",
    "External libraries may be used to answer the questions. Notebook must be executable.\n",
    "\n",
    "\n",
    "1. Split data into train/test and implement the following evaluation metrics for the Recommender System:\n",
    "    * __MAP @ k__: Mean Average Precision where precision @ ___k___ is a percentage of correct items among first ___k___ recommendations.\n",
    "    * __Coverage__: Percentage of movies that can be recommended in the test data.\n",
    "    * __Personalization__: Score indicating how user dissimilar user recommendations are from each other. It is computed as __1 - Cosine Similarity of user recommendations__.\n",
    "2. Improve the Recommender System on at least one of the metrics in __(1)__. There is no constraint on how to improve the model. It could be through an implementation of another method or a pre/post processing of data. \n",
    "3. Document all the modifications to the model and present a comparative report showing the improvement in evaluation metrics."
   ]
  },
  {
   "cell_type": "code",
   "execution_count": 14,
   "metadata": {
    "colab": {},
    "colab_type": "code",
    "id": "BgBmhDiitD7I"
   },
   "outputs": [
    {
     "name": "stdout",
     "output_type": "stream",
     "text": [
      "Requirement already satisfied: wget in /anaconda3/lib/python3.7/site-packages (3.2)\n"
     ]
    }
   ],
   "source": [
    "!pip install wget"
   ]
  },
  {
   "cell_type": "code",
   "execution_count": 15,
   "metadata": {},
   "outputs": [],
   "source": [
    "import pandas as pd\n",
    "import numpy as np\n",
    "import zipfile\n",
    "import wget\n",
    "import os.path\n",
    "from os import path\n",
    "from IPython.display import display, HTML\n",
    "pd.set_option('display.max_colwidth', -1)"
   ]
  },
  {
   "cell_type": "markdown",
   "metadata": {
    "colab_type": "text",
    "id": "paZUGVUrtD7L"
   },
   "source": [
    "## Download and read the input data\n",
    "* Download data files from 'http://files.grouplens.org/datasets/movielens/'\n",
    "* Reading csv files containing data \n",
    "* \"ratings.csv\" contains all user movie ratings with a timestamp\n",
    "* \"movies.csv\" contains information about teh movies such as the genres"
   ]
  },
  {
   "cell_type": "code",
   "execution_count": 16,
   "metadata": {
    "colab": {},
    "colab_type": "code",
    "id": "974m3DNjtD7N"
   },
   "outputs": [],
   "source": [
    "if  not path.exists(\"ml-20m.zip\"):\n",
    "    url = 'http://files.grouplens.org/datasets/movielens/ml-20m.zip'\n",
    "    filename = wget.download(url)\n",
    "if  not path.exists(\"ml-20m\"):    \n",
    "    with zipfile.ZipFile('ml-20m.zip', 'r') as zip_ref:\n",
    "        zip_ref.extractall('.')\n",
    "all_reviews = pd.read_csv('./ml-20m/ratings.csv')\n",
    "all_items = pd.read_csv('./ml-20m/movies.csv')"
   ]
  },
  {
   "cell_type": "markdown",
   "metadata": {
    "colab_type": "text",
    "id": "qwGR3BnjtD7R"
   },
   "source": [
    "## Method to prepare the data\n",
    "* This function creates a user/item matrix with the ratings as values, NaN means no user in row did not rate movie in column"
   ]
  },
  {
   "cell_type": "code",
   "execution_count": 17,
   "metadata": {
    "colab": {},
    "colab_type": "code",
    "id": "2dUnPBwTtD7S"
   },
   "outputs": [],
   "source": [
    "def get_user_item_matrix(sample_size):\n",
    "    reviews = all_reviews.head(int(all_reviews.shape[0]*sample_size))\n",
    "    r = reviews.groupby(['userId','movieId'], as_index=False)['rating'].max()            \n",
    "    data = r[['movieId','userId','rating']]\n",
    "    d_ = data.pivot(index='userId', columns='movieId', values='rating')\n",
    "    matrix = d_.dropna(thresh=2)\n",
    "    matrix = matrix.dropna(thresh=10,axis=1)\n",
    "    return matrix   "
   ]
  },
  {
   "cell_type": "markdown",
   "metadata": {
    "colab_type": "text",
    "id": "-BE3SlRPtD7U"
   },
   "source": [
    "## Method to calculate the recommendations\n",
    "* This function takes as arguments the user/item matrix, a vector of movie Ids rated by the user (possibly one) and the number of recommendations we would like to have.\n",
    "* It finds correlated movies to the ones rated by the user.\n",
    "* Returns the K most correlated movies (K given as argument)."
   ]
  },
  {
   "cell_type": "code",
   "execution_count": 18,
   "metadata": {
    "colab": {},
    "colab_type": "code",
    "id": "94xSlRYgtD7V"
   },
   "outputs": [],
   "source": [
    "def recommend_items(matrix,user_items,k):\n",
    "    recommended_items = pd.DataFrame(columns=['items','score'])\n",
    "    for item in user_items:\n",
    "        item_vector = matrix[item]\n",
    "        corr_results = matrix.corrwith(item_vector)\n",
    "        corr_results = corr_results.where(corr_results > 0).dropna().sort_values(ascending=False)    \n",
    "        similar_items = pd.DataFrame(corr_results.head(k))\n",
    "        similar_items = similar_items.reset_index()\n",
    "        similar_items.columns =  ['items','score']\n",
    "        recommended_items = pd.concat([recommended_items,similar_items])\n",
    "        if recommended_items[recommended_items.score == 1].shape[0] >= k:\n",
    "                break\n",
    "\n",
    "    if ~recommended_items.empty:  \n",
    "        recommended_items = recommended_items[~recommended_items['items'].isin(user_items)] \n",
    "        recommended_items = recommended_items.sort_values(by=['score'], ascending=False)\n",
    "        recommended_items.drop_duplicates(inplace=True)\n",
    "\n",
    "    return recommended_items.head(k)\n"
   ]
  },
  {
   "cell_type": "markdown",
   "metadata": {
    "colab_type": "text",
    "id": "k7sepeWutD7Y"
   },
   "source": [
    "## Method to display the results\n",
    "* Prints a DataFrame of movies rated by the User\n",
    "* Prints a DataFrame of movies recommended to the User\n"
   ]
  },
  {
   "cell_type": "code",
   "execution_count": 19,
   "metadata": {
    "colab": {},
    "colab_type": "code",
    "id": "IuKE0FV9tD7a"
   },
   "outputs": [],
   "source": [
    "def display_items(item_list):   \n",
    "    display(all_items[all_items['movieId'].isin(item_list)])\n",
    "\n",
    "def show_recommendations(user_id,recommendations,nb_rated_movies):\n",
    "    items_names = [int(all_reviews.loc[all_reviews['userId']==user_id].sort_values(by='timestamp', ascending=False).iloc[i]['movieId']) for i in np.arange(nb_rated_movies)]\n",
    "    print('\\n\\033[1mUser \\\"{}\\\" latest rated movie:\\033[0m\\n'.format(user_id))\n",
    "    display_items(items_names)\n",
    "    print('\\n\\n\\033[1mRecommendations for user \\\"{}\\\":\\033[0m\\n'.format(user_id))\n",
    "    display_items(recommendations['items'])"
   ]
  },
  {
   "cell_type": "markdown",
   "metadata": {
    "colab_type": "text",
    "id": "0GhtwMo0tD7d"
   },
   "source": [
    "## Method to get the recommendation \n",
    "* Get the latest movied rated by a given User and a user/item matrix\n",
    "* Calls 'recommend_items' with the latest movie rated by the User\n",
    "* Returns the recommendations"
   ]
  },
  {
   "cell_type": "code",
   "execution_count": 20,
   "metadata": {
    "colab": {},
    "colab_type": "code",
    "id": "6B13mZFItD7d"
   },
   "outputs": [],
   "source": [
    "def get_recommendations(user_id,matrix,nb_rated_movies):\n",
    "    items_names = [int(all_reviews.loc[all_reviews['userId']==user_id].sort_values(by='timestamp', ascending=False).iloc[i]['movieId']) for i in np.arange(nb_rated_movies)]\n",
    "    number_of_recommendations = 5\n",
    "    recommendations = recommend_items(matrix,items_names,number_of_recommendations)\n",
    "    return recommendations"
   ]
  },
  {
   "cell_type": "code",
   "execution_count": 21,
   "metadata": {
    "colab": {},
    "colab_type": "code",
    "id": "4YOPjNcMtD7g"
   },
   "outputs": [],
   "source": [
    "sample_size=0.1\n",
    "matrix = get_user_item_matrix(sample_size)\n",
    "nonan_matrix = matrix.replace(np.nan,-1)"
   ]
  },
  {
   "cell_type": "code",
   "execution_count": 26,
   "metadata": {
    "colab": {
     "base_uri": "https://localhost:8080/",
     "height": 34
    },
    "colab_type": "code",
    "id": "rQ8PSD60tD7i",
    "outputId": "c01e1e7a-133a-4f06-fd84-d807af4c7a02"
   },
   "outputs": [
    {
     "name": "stdout",
     "output_type": "stream",
     "text": [
      "\n",
      "\u001b[1mUser \"56\" latest rated movie:\u001b[0m\n",
      "\n"
     ]
    },
    {
     "data": {
      "text/html": [
       "<div>\n",
       "<style scoped>\n",
       "    .dataframe tbody tr th:only-of-type {\n",
       "        vertical-align: middle;\n",
       "    }\n",
       "\n",
       "    .dataframe tbody tr th {\n",
       "        vertical-align: top;\n",
       "    }\n",
       "\n",
       "    .dataframe thead th {\n",
       "        text-align: right;\n",
       "    }\n",
       "</style>\n",
       "<table border=\"1\" class=\"dataframe\">\n",
       "  <thead>\n",
       "    <tr style=\"text-align: right;\">\n",
       "      <th></th>\n",
       "      <th>movieId</th>\n",
       "      <th>title</th>\n",
       "      <th>genres</th>\n",
       "    </tr>\n",
       "  </thead>\n",
       "  <tbody>\n",
       "    <tr>\n",
       "      <th>213</th>\n",
       "      <td>215</td>\n",
       "      <td>Before Sunrise (1995)</td>\n",
       "      <td>Drama|Romance</td>\n",
       "    </tr>\n",
       "    <tr>\n",
       "      <th>1238</th>\n",
       "      <td>1266</td>\n",
       "      <td>Unforgiven (1992)</td>\n",
       "      <td>Drama|Western</td>\n",
       "    </tr>\n",
       "    <tr>\n",
       "      <th>1378</th>\n",
       "      <td>1411</td>\n",
       "      <td>Hamlet (1996)</td>\n",
       "      <td>Crime|Drama|Romance</td>\n",
       "    </tr>\n",
       "  </tbody>\n",
       "</table>\n",
       "</div>"
      ],
      "text/plain": [
       "      movieId                  title               genres\n",
       "213   215      Before Sunrise (1995)  Drama|Romance      \n",
       "1238  1266     Unforgiven (1992)      Drama|Western      \n",
       "1378  1411     Hamlet (1996)          Crime|Drama|Romance"
      ]
     },
     "metadata": {},
     "output_type": "display_data"
    },
    {
     "name": "stdout",
     "output_type": "stream",
     "text": [
      "\n",
      "\n",
      "\u001b[1mRecommendations for user \"56\":\u001b[0m\n",
      "\n"
     ]
    },
    {
     "data": {
      "text/html": [
       "<div>\n",
       "<style scoped>\n",
       "    .dataframe tbody tr th:only-of-type {\n",
       "        vertical-align: middle;\n",
       "    }\n",
       "\n",
       "    .dataframe tbody tr th {\n",
       "        vertical-align: top;\n",
       "    }\n",
       "\n",
       "    .dataframe thead th {\n",
       "        text-align: right;\n",
       "    }\n",
       "</style>\n",
       "<table border=\"1\" class=\"dataframe\">\n",
       "  <thead>\n",
       "    <tr style=\"text-align: right;\">\n",
       "      <th></th>\n",
       "      <th>movieId</th>\n",
       "      <th>title</th>\n",
       "      <th>genres</th>\n",
       "    </tr>\n",
       "  </thead>\n",
       "  <tbody>\n",
       "    <tr>\n",
       "      <th>1068</th>\n",
       "      <td>1090</td>\n",
       "      <td>Platoon (1986)</td>\n",
       "      <td>Drama|War</td>\n",
       "    </tr>\n",
       "    <tr>\n",
       "      <th>1176</th>\n",
       "      <td>1201</td>\n",
       "      <td>Good, the Bad and the Ugly, The (Buono, il brutto, il cattivo, Il) (1966)</td>\n",
       "      <td>Action|Adventure|Western</td>\n",
       "    </tr>\n",
       "    <tr>\n",
       "      <th>1182</th>\n",
       "      <td>1208</td>\n",
       "      <td>Apocalypse Now (1979)</td>\n",
       "      <td>Action|Drama|War</td>\n",
       "    </tr>\n",
       "    <tr>\n",
       "      <th>1187</th>\n",
       "      <td>1213</td>\n",
       "      <td>Goodfellas (1990)</td>\n",
       "      <td>Crime|Drama</td>\n",
       "    </tr>\n",
       "    <tr>\n",
       "      <th>7955</th>\n",
       "      <td>8638</td>\n",
       "      <td>Before Sunset (2004)</td>\n",
       "      <td>Drama|Romance</td>\n",
       "    </tr>\n",
       "  </tbody>\n",
       "</table>\n",
       "</div>"
      ],
      "text/plain": [
       "      movieId  \\\n",
       "1068  1090      \n",
       "1176  1201      \n",
       "1182  1208      \n",
       "1187  1213      \n",
       "7955  8638      \n",
       "\n",
       "                                                                          title  \\\n",
       "1068  Platoon (1986)                                                              \n",
       "1176  Good, the Bad and the Ugly, The (Buono, il brutto, il cattivo, Il) (1966)   \n",
       "1182  Apocalypse Now (1979)                                                       \n",
       "1187  Goodfellas (1990)                                                           \n",
       "7955  Before Sunset (2004)                                                        \n",
       "\n",
       "                        genres  \n",
       "1068  Drama|War                 \n",
       "1176  Action|Adventure|Western  \n",
       "1182  Action|Drama|War          \n",
       "1187  Crime|Drama               \n",
       "7955  Drama|Romance             "
      ]
     },
     "metadata": {},
     "output_type": "display_data"
    }
   ],
   "source": [
    "user_id = 56\n",
    "nb_last_rated_movies = 3\n",
    "try:\n",
    "    recommendations = get_recommendations(user_id,nonan_matrix,nb_last_rated_movies)\n",
    "    show_recommendations(user_id,recommendations,nb_last_rated_movies)\n",
    "except:\n",
    "    print('{} is an invalid User ID. Please enter a user ID between {} and {}.'.format(user_id,1,len(all_reviews.userId.unique())))  "
   ]
  },
  {
   "cell_type": "code",
   "execution_count": null,
   "metadata": {},
   "outputs": [],
   "source": []
  }
 ],
 "metadata": {
  "colab": {
   "collapsed_sections": [],
   "name": "coding_exercice_q3.ipynb",
   "provenance": [],
   "toc_visible": true
  },
  "kernelspec": {
   "display_name": "Python 3",
   "language": "python",
   "name": "python3"
  },
  "language_info": {
   "codemirror_mode": {
    "name": "ipython",
    "version": 3
   },
   "file_extension": ".py",
   "mimetype": "text/x-python",
   "name": "python",
   "nbconvert_exporter": "python",
   "pygments_lexer": "ipython3",
   "version": "3.7.3"
  }
 },
 "nbformat": 4,
 "nbformat_minor": 4
}
